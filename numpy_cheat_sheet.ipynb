{
 "cells": [
  {
   "cell_type": "code",
   "execution_count": 2,
   "metadata": {
    "collapsed": true
   },
   "outputs": [],
   "source": [
    "import numpy as np"
   ]
  },
  {
   "cell_type": "code",
   "execution_count": 4,
   "metadata": {
    "collapsed": false
   },
   "outputs": [
    {
     "name": "stdout",
     "output_type": "stream",
     "text": [
      "[-2. -1.  0.  1.  2.  3.  4.  5.]\n"
     ]
    }
   ],
   "source": [
    "# arange method: Returns evenly spaced values within a given interval.\n",
    "x = np.arange(-2.0, 6.0, 1)\n",
    "print x"
   ]
  },
  {
   "cell_type": "code",
   "execution_count": 5,
   "metadata": {
    "collapsed": false
   },
   "outputs": [
    {
     "name": "stdout",
     "output_type": "stream",
     "text": [
      "8 8 [ 1.  1.  1.  1.  1.  1.  1.  1.]\n"
     ]
    }
   ],
   "source": [
    "# ones_like: Returns an array of ones with the same shape and type as a given array.\n",
    "y = np.ones_like(x)\n",
    "print len(x), len(y), y"
   ]
  },
  {
   "cell_type": "code",
   "execution_count": 6,
   "metadata": {
    "collapsed": false
   },
   "outputs": [
    {
     "name": "stdout",
     "output_type": "stream",
     "text": [
      "[[-2.  -1.   0.   1.   2.   3.   4.   5. ]\n",
      " [ 1.   1.   1.   1.   1.   1.   1.   1. ]\n",
      " [ 0.2  0.2  0.2  0.2  0.2  0.2  0.2  0.2]]\n"
     ]
    }
   ],
   "source": [
    "# vstack: Stack arrays in sequence vertically (row wise).\n",
    "z = np.vstack([x, y, 0.2 * y])\n",
    "print z"
   ]
  },
  {
   "cell_type": "code",
   "execution_count": 7,
   "metadata": {
    "collapsed": false
   },
   "outputs": [
    {
     "name": "stdout",
     "output_type": "stream",
     "text": [
      "(3, 8)\n"
     ]
    }
   ],
   "source": [
    "# shape: Returns size of n-dimensional numpy array as a tuple\n",
    "print z.shape"
   ]
  },
  {
   "cell_type": "code",
   "execution_count": 12,
   "metadata": {
    "collapsed": false
   },
   "outputs": [
    {
     "name": "stdout",
     "output_type": "stream",
     "text": [
      "21.6\n",
      "[-0.8  0.2  1.2  2.2  3.2  4.2  5.2  6.2]\n",
      "[ 12.    8.    1.6]\n"
     ]
    }
   ],
   "source": [
    "#sum: Returns sum of array elements over a given axis.\n",
    "# Sum of all elements in nd array\n",
    "print np.sum(z)\n",
    "# Sum of each column in nd array\n",
    "print np.sum(z, axis=0)\n",
    "# Sum of each row in nd array\n",
    "print np.sum(z, axis=1)"
   ]
  },
  {
   "cell_type": "code",
   "execution_count": 19,
   "metadata": {
    "collapsed": false
   },
   "outputs": [
    {
     "name": "stdout",
     "output_type": "stream",
     "text": [
      "[[  1.35335283e-01   3.67879441e-01   1.00000000e+00   2.71828183e+00\n",
      "    7.38905610e+00   2.00855369e+01   5.45981500e+01   1.48413159e+02]\n",
      " [  2.71828183e+00   2.71828183e+00   2.71828183e+00   2.71828183e+00\n",
      "    2.71828183e+00   2.71828183e+00   2.71828183e+00   2.71828183e+00]\n",
      " [  1.22140276e+00   1.22140276e+00   1.22140276e+00   1.22140276e+00\n",
      "    1.22140276e+00   1.22140276e+00   1.22140276e+00   1.22140276e+00]]\n",
      "[   4.07501987    4.30756403    4.93968459    6.65796642   11.32874069\n",
      "   24.02522151   58.53783462  152.35284369]\n",
      "[[ 0.03321095  0.08540313  0.20244208  0.40827509  0.65223985  0.8360188\n",
      "   0.93269849  0.97414105]\n",
      " [ 0.66705977  0.6310485   0.55029462  0.40827509  0.23994563  0.11314284\n",
      "   0.04643632  0.01784202]\n",
      " [ 0.29972928  0.28354837  0.24726331  0.18344982  0.10781452  0.05083836\n",
      "   0.02086519  0.00801693]]\n"
     ]
    }
   ],
   "source": [
    "a = np.exp(z)\n",
    "b = np.sum(np.exp(z), axis=0)\n",
    "print a\n",
    "print b\n",
    "print a/b"
   ]
  },
  {
   "cell_type": "code",
   "execution_count": null,
   "metadata": {
    "collapsed": true
   },
   "outputs": [],
   "source": []
  }
 ],
 "metadata": {
  "kernelspec": {
   "display_name": "Python 2",
   "language": "python",
   "name": "python2"
  },
  "language_info": {
   "codemirror_mode": {
    "name": "ipython",
    "version": 2
   },
   "file_extension": ".py",
   "mimetype": "text/x-python",
   "name": "python",
   "nbconvert_exporter": "python",
   "pygments_lexer": "ipython2",
   "version": "2.7.10"
  }
 },
 "nbformat": 4,
 "nbformat_minor": 0
}
